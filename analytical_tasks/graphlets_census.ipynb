{
 "cells": [
  {
   "cell_type": "markdown",
   "id": "e3e03367",
   "metadata": {},
   "source": [
    "## Efficient Graphlet Counting for Large Networks"
   ]
  },
  {
   "cell_type": "code",
   "execution_count": 43,
   "id": "45fc4e03",
   "metadata": {},
   "outputs": [],
   "source": [
    "import networkx as nx\n",
    "import json\n",
    "import numpy as np\n",
    "import random\n",
    "import scipy.special\n",
    "import sys\n",
    "\n",
    "import argparse\n",
    "\n",
    "from itertools import combinations\n",
    "from tqdm import tqdm, trange"
   ]
  },
  {
   "cell_type": "markdown",
   "id": "e1ffe29d",
   "metadata": {},
   "source": [
    "#### Parameters"
   ]
  },
  {
   "cell_type": "code",
   "execution_count": 46,
   "id": "ab875187",
   "metadata": {},
   "outputs": [],
   "source": [
    "# Probability of adding a node during the visit\n",
    "p = 0.6\n",
    "\n",
    "# Number of iterations\n",
    "n = 10"
   ]
  },
  {
   "cell_type": "code",
   "execution_count": 10,
   "id": "81d3c915",
   "metadata": {},
   "outputs": [
    {
     "name": "stdout",
     "output_type": "stream",
     "text": [
      "Reading the graph...\n",
      "Graph read.\n"
     ]
    }
   ],
   "source": [
    "# Load the graph\n",
    "print('Reading the graph...')\n",
    "G = nx.read_gexf('../../network_analysis/data/rpolitics/directed_giant_component.gexf')\n",
    "print('Graph read.')"
   ]
  },
  {
   "cell_type": "markdown",
   "id": "5b6b5e65",
   "metadata": {},
   "source": [
    "#### Graphlets counting"
   ]
  },
  {
   "cell_type": "code",
   "execution_count": 13,
   "id": "558a2392",
   "metadata": {},
   "outputs": [],
   "source": [
    "test = nx.DiGraph()\n",
    "test.add_node(\"a\")\n",
    "test.add_node(\"b\")\n",
    "test.add_node(\"c\")\n",
    "test.add_edge(\"a\", \"b\")\n",
    "test.add_edge(\"b\", \"c\")\n",
    "test.add_edge(\"c\", \"a\")"
   ]
  },
  {
   "cell_type": "code",
   "execution_count": 71,
   "id": "610a2970",
   "metadata": {},
   "outputs": [],
   "source": [
    "def clique_count(X, G, Tri_e):\n",
    "    cliq_e = 0\n",
    "    for w in Tri_e:\n",
    "        for r in G.neighbors(w):\n",
    "            if r in X and X[r] == 2:\n",
    "                cliq_e += 1\n",
    "        X[w] = 0\n",
    "    return cliq_e    \n",
    "\n",
    "def cycle_count(X, G, Star_u):\n",
    "    cyc_e = 0\n",
    "    for w in Star_u:\n",
    "        for r in G.neighbors(w):\n",
    "            if r in X and X[r] == 3:\n",
    "                cyc_e += 1\n",
    "        X[w] = 0\n",
    "    return cyc_e\n",
    "\n",
    "def graphlet_census(G):\n",
    "    X = {}\n",
    "    graphlets = {\n",
    "        \"triangle\": 0,\n",
    "        \"2-star\": 0,\n",
    "        \"4-clique\": 0,\n",
    "        \"4-cycle\": 0,\n",
    "        \"4-tailedtriangle\": 0,\n",
    "        \"4-chordalcycle\": 0,\n",
    "        \"4-path\": 0,\n",
    "        \"3-star\": 0,\n",
    "    }\n",
    "    for (u, v) in tqdm(list(G.edges())):\n",
    "        Star_u = set([])\n",
    "        Star_v = set([])\n",
    "        Tri_e = set([])\n",
    "        \n",
    "        # u -> v -> w \n",
    "        for w in G.neighbors(u):\n",
    "            if w == v: \n",
    "                continue\n",
    "            Star_u.add(w)\n",
    "            X[w] = 1\n",
    "            \n",
    "        # v -> u -> w + v -> u -> w -> v\n",
    "        for w in G.neighbors(v):\n",
    "            if w == u: \n",
    "                continue\n",
    "            if w in X and X[w] == 1:\n",
    "                Tri_e.add(w)\n",
    "                X[w] = 2\n",
    "                if w in Star_u:\n",
    "                    Star_u.remove(w)\n",
    "            else:\n",
    "                Star_v.add(w)\n",
    "                X[w] = 3\n",
    "\n",
    "        # Graphlet 3-nodes\n",
    "        \n",
    "        graphlets[\"triangle\"] += len(Tri_e)\n",
    "        graphlets[\"2-star\"] += len(Star_u) + len(Star_v)\n",
    "    \n",
    "        # Graphlet 4-nodes\n",
    "        graphlets[\"4-clique\"] += clique_count(X, G, Tri_e)\n",
    "        graphlets[\"4-cycle\"] += cycle_count(X, G, Star_u)\n",
    "        \n",
    "        Ntt = int(scipy.special.comb(len(Tri_e), 2))\n",
    "        Nsu = int(scipy.special.comb(len(Star_u), 2))\n",
    "        Nsv = int(scipy.special.comb(len(Star_v), 2))\n",
    "        graphlets[\"4-chordalcycle\"] += Ntt\n",
    "        graphlets[\"4-tailedtriangle\"] += len(Tri_e) * (len(Star_u) + len(Star_v))\n",
    "        graphlets[\"4-path\"] += len(Star_u) * len(Star_v)\n",
    "        graphlets[\"3-star\"] += Nsu + Nsv\n",
    "    \n",
    "        for w in G.neighbors(v):\n",
    "            X[w] = 0\n",
    "    \n",
    "    graphlets[\"4-chordalcycle\"] = graphlets[\"4-chordalcycle\"] - 6 * graphlets[\"4-clique\"]\n",
    "    graphlets[\"4-tailedtriangle\"] = graphlets[\"4-tailedtriangle\"] - 4 * graphlets[\"4-chordalcycle\"]\n",
    "    graphlets[\"triangle\"] = int(1/3 * graphlets[\"triangle\"])\n",
    "    graphlets[\"2-star\"] = int(1/2 * graphlets[\"2-star\"])\n",
    "    graphlets[\"4-path\"] = graphlets[\"4-path\"] - 4 * graphlets[\"4-cycle\"]\n",
    "    graphlets[\"3-star\"] = graphlets[\"3-star\"] - graphlets[\"4-tailedtriangle\"]\n",
    "    \n",
    "    return graphlets"
   ]
  },
  {
   "cell_type": "code",
   "execution_count": null,
   "id": "797d51c7",
   "metadata": {},
   "outputs": [
    {
     "name": "stderr",
     "output_type": "stream",
     "text": [
      " 15%|█▌        | 76613/503497 [04:56<08:42, 817.32it/s]  "
     ]
    }
   ],
   "source": [
    "graphlet_census(G)"
   ]
  },
  {
   "cell_type": "markdown",
   "id": "e7cfe2ef",
   "metadata": {},
   "source": [
    "#### Monte-Carlo Sampling"
   ]
  },
  {
   "cell_type": "code",
   "execution_count": 37,
   "id": "64cdbbf6",
   "metadata": {},
   "outputs": [
    {
     "name": "stderr",
     "output_type": "stream",
     "text": [
      "100%|██████████| 10/10 [00:09<00:00,  1.02it/s]\n"
     ]
    }
   ],
   "source": [
    "graphlets = []\n",
    "for _ in trange(n):\n",
    "    # Draw a random vertex from the graph\n",
    "    v = list(G.nodes())[np.random.randint(low = 0, high = len(G.nodes()) - 1, size=1)[0]]\n",
    "    ego = nx.ego_graph(G, v, radius=4)\n",
    "    mc_ego = nx.DiGraph()\n",
    "    for v in ego.nodes():\n",
    "        mc_ego.add_node(v)\n",
    "    for e in ego.edges():\n",
    "        if random.uniform(0, 1) <= p: \n",
    "            mc_ego.add_edge(e[0], e[1])\n",
    "    graphlets.append((graphlet_census(mc_ego), len(mc_ego.edges()), len(mc_ego.nodes())))"
   ]
  },
  {
   "cell_type": "code",
   "execution_count": 5,
   "id": "117feaa9",
   "metadata": {},
   "outputs": [
    {
     "name": "stdout",
     "output_type": "stream",
     "text": [
      "Edges drawn 35531/357799\n"
     ]
    }
   ],
   "source": [
    "avg = 0\n",
    "for census, num_edges, num_nodes in graphlets:\n",
    "    "
   ]
  },
  {
   "cell_type": "code",
   "execution_count": null,
   "id": "d150c5a3",
   "metadata": {},
   "outputs": [],
   "source": []
  }
 ],
 "metadata": {
  "kernelspec": {
   "display_name": "Python (SNA)",
   "language": "python",
   "name": "sna"
  },
  "language_info": {
   "codemirror_mode": {
    "name": "ipython",
    "version": 3
   },
   "file_extension": ".py",
   "mimetype": "text/x-python",
   "name": "python",
   "nbconvert_exporter": "python",
   "pygments_lexer": "ipython3",
   "version": "3.9.7"
  }
 },
 "nbformat": 4,
 "nbformat_minor": 5
}
