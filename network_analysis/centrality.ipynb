{
 "cells": [
  {
   "cell_type": "code",
   "execution_count": 17,
   "metadata": {
    "id": "5GKJOKn_w6Sb"
   },
   "outputs": [],
   "source": [
    "%matplotlib inline\n",
    "import pandas as pd\n",
    "import matplotlib.pyplot as plt\n",
    "import networkx as nx\n",
    "import json\n",
    "import numpy as np"
   ]
  },
  {
   "cell_type": "code",
   "execution_count": 34,
   "metadata": {},
   "outputs": [],
   "source": [
    "from conformity import attribute_conformity\n",
    "\n",
    "G = nx.read_gexf('./data/rpolitics/giant_component.gexf')"
   ]
  },
  {
   "cell_type": "code",
   "execution_count": null,
   "metadata": {},
   "outputs": [],
   "source": [
    "eigenvector = nx.eigenvector_centrality(G, weight='weight', max_iter=1000)\n",
    "with open('./results/rpolitics/centrality_eigenvector.json', 'w') as file:\n",
    "    json.dump(eigenvector, file, indent=4)\n",
    "\n",
    "pagerank = nx.pagerank(G, weight='weight', max_iter=1000)\n",
    "with open('./results/rpolitics/centrality_pagerank.json', 'w') as file:\n",
    "    json.dump(pagerank, file, indent=4)\n",
    "\n",
    "ass_coefficient = nx.attribute_assortativity_coefficient(G, 'geo')\n",
    "with open('./results/rpolitics/assortativity_geo.json', 'w') as file:\n",
    "    json.dump(ass_coefficient, file, indent=4)"
   ]
  },
  {
   "cell_type": "code",
   "execution_count": 14,
   "metadata": {},
   "outputs": [
    {
     "name": "stdout",
     "output_type": "stream",
     "text": [
      "0.007713760687206258\n"
     ]
    }
   ],
   "source": [
    "print(ass_coefficient)"
   ]
  },
  {
   "cell_type": "code",
   "execution_count": 18,
   "metadata": {
    "id": "OPEctwoPw84u"
   },
   "outputs": [],
   "source": [
    "eigen = pd.read_json('./results/rpolitics/centrality_eigenvector.json',orient = 'index').reset_index()\n",
    "pagerank = pd.read_json('./results/rpolitics/centrality_pagerank.json',orient = 'index').reset_index()\n",
    "eigen.rename(columns={'index':'Name',0:'eigen'},inplace=True)\n",
    "pagerank.rename(columns={'index':'Name',0:'pagerank'},inplace=True)\n",
    "centralities = eigen.set_index('Name').join(pagerank.set_index('Name'))"
   ]
  },
  {
   "cell_type": "code",
   "execution_count": 35,
   "metadata": {
    "id": "SWAz6VQRxFBp"
   },
   "outputs": [],
   "source": [
    "karma_dict = {}\n",
    "link_dict = {}\n",
    "for node in G.nodes():\n",
    "  karma_dict[node] = json.loads(G.nodes[node]['data'].replace(\"'\",'\"'))['comment_karma']\n",
    "  link_dict[node] = json.loads(G.nodes[node]['data'].replace(\"'\",'\"'))['link_karma']"
   ]
  },
  {
   "cell_type": "code",
   "execution_count": 20,
   "metadata": {
    "id": "96uoq4HRxeTt"
   },
   "outputs": [],
   "source": [
    "comment = pd.DataFrame.from_dict(karma_dict,orient='index',columns=['comment_karma'])\n",
    "centralities = centralities.join(comment)"
   ]
  },
  {
   "cell_type": "code",
   "execution_count": 21,
   "metadata": {
    "colab": {
     "base_uri": "https://localhost:8080/",
     "height": 300
    },
    "id": "UUEORM2jxf8E",
    "outputId": "6824249d-208d-4c41-964d-db5025097dc9"
   },
   "outputs": [
    {
     "data": {
      "text/html": [
       "<div>\n",
       "<style scoped>\n",
       "    .dataframe tbody tr th:only-of-type {\n",
       "        vertical-align: middle;\n",
       "    }\n",
       "\n",
       "    .dataframe tbody tr th {\n",
       "        vertical-align: top;\n",
       "    }\n",
       "\n",
       "    .dataframe thead th {\n",
       "        text-align: right;\n",
       "    }\n",
       "</style>\n",
       "<table border=\"1\" class=\"dataframe\">\n",
       "  <thead>\n",
       "    <tr style=\"text-align: right;\">\n",
       "      <th></th>\n",
       "      <th>eigen</th>\n",
       "      <th>pagerank</th>\n",
       "    </tr>\n",
       "  </thead>\n",
       "  <tbody>\n",
       "    <tr>\n",
       "      <th>count</th>\n",
       "      <td>9.516800e+04</td>\n",
       "      <td>95168.000000</td>\n",
       "    </tr>\n",
       "    <tr>\n",
       "      <th>mean</th>\n",
       "      <td>3.186167e-04</td>\n",
       "      <td>0.000011</td>\n",
       "    </tr>\n",
       "    <tr>\n",
       "      <th>std</th>\n",
       "      <td>3.225884e-03</td>\n",
       "      <td>0.000093</td>\n",
       "    </tr>\n",
       "    <tr>\n",
       "      <th>min</th>\n",
       "      <td>1.763368e-19</td>\n",
       "      <td>0.000002</td>\n",
       "    </tr>\n",
       "    <tr>\n",
       "      <th>25%</th>\n",
       "      <td>1.976911e-06</td>\n",
       "      <td>0.000002</td>\n",
       "    </tr>\n",
       "    <tr>\n",
       "      <th>50%</th>\n",
       "      <td>2.278971e-05</td>\n",
       "      <td>0.000003</td>\n",
       "    </tr>\n",
       "    <tr>\n",
       "      <th>75%</th>\n",
       "      <td>8.342333e-05</td>\n",
       "      <td>0.000006</td>\n",
       "    </tr>\n",
       "    <tr>\n",
       "      <th>max</th>\n",
       "      <td>6.795717e-01</td>\n",
       "      <td>0.023827</td>\n",
       "    </tr>\n",
       "  </tbody>\n",
       "</table>\n",
       "</div>"
      ],
      "text/plain": [
       "              eigen      pagerank\n",
       "count  9.516800e+04  95168.000000\n",
       "mean   3.186167e-04      0.000011\n",
       "std    3.225884e-03      0.000093\n",
       "min    1.763368e-19      0.000002\n",
       "25%    1.976911e-06      0.000002\n",
       "50%    2.278971e-05      0.000003\n",
       "75%    8.342333e-05      0.000006\n",
       "max    6.795717e-01      0.023827"
      ]
     },
     "execution_count": 21,
     "metadata": {},
     "output_type": "execute_result"
    }
   ],
   "source": [
    "centralities.describe()"
   ]
  },
  {
   "cell_type": "code",
   "execution_count": 22,
   "metadata": {
    "colab": {
     "base_uri": "https://localhost:8080/"
    },
    "id": "5kkX8ncCxikl",
    "outputId": "69dd2f16-634a-4078-864f-4049770afe19"
   },
   "outputs": [
    {
     "name": "stdout",
     "output_type": "stream",
     "text": [
      "Pearson\n",
      "             eigen  pagerank\n",
      "eigen     1.000000  0.884907\n",
      "pagerank  0.884907  1.000000\n",
      "Kendall\n",
      "             eigen  pagerank\n",
      "eigen     1.000000  0.263466\n",
      "pagerank  0.263466  1.000000\n",
      "Spearman\n",
      "             eigen  pagerank\n",
      "eigen     1.000000  0.394572\n",
      "pagerank  0.394572  1.000000\n"
     ]
    }
   ],
   "source": [
    "print('Pearson')\n",
    "print(centralities.corr(method='pearson'))\n",
    "print('Kendall')\n",
    "print(centralities.corr(method='kendall'))\n",
    "print('Spearman')\n",
    "print(centralities.corr(method='spearman'))"
   ]
  },
  {
   "cell_type": "markdown",
   "metadata": {
    "id": "dw1VPUZGGocq"
   },
   "source": [
    "# Eigenvector"
   ]
  },
  {
   "cell_type": "code",
   "execution_count": 23,
   "metadata": {
    "colab": {
     "base_uri": "https://localhost:8080/",
     "height": 483
    },
    "id": "FdooZOa98OiR",
    "outputId": "2a124c8c-942f-4293-baf2-df1454f42550"
   },
   "outputs": [
    {
     "data": {
      "text/plain": [
       "(0.0, 0.001)"
      ]
     },
     "execution_count": 23,
     "metadata": {},
     "output_type": "execute_result"
    },
    {
     "data": {
      "image/png": "[encoded data removed]",
      "text/plain": [
       "<Figure size 1152x576 with 1 Axes>"
      ]
     },
     "metadata": {
      "needs_background": "light"
     },
     "output_type": "display_data"
    }
   ],
   "source": [
    "eigen.plot.hist(by='eigen',bins=50000, figsize = (16,8))\n",
    "plt.gca().set_xlim(0,0.001)\n",
    "#plt.gca().set_ylim(0,10000)"
   ]
  },
  {
   "cell_type": "code",
   "execution_count": 24,
   "metadata": {
    "colab": {
     "base_uri": "https://localhost:8080/",
     "height": 504
    },
    "id": "kyHg3IJqF300",
    "outputId": "13498f47-dd1b-4ab4-825b-e83a0a981513"
   },
   "outputs": [
    {
     "data": {
      "text/plain": [
       "(0.0, 5000.0)"
      ]
     },
     "execution_count": 24,
     "metadata": {},
     "output_type": "execute_result"
    },
    {
     "data": {
      "image/png": "[encoded data removed]",
      "text/plain": [
       "<Figure size 1152x576 with 1 Axes>"
      ]
     },
     "metadata": {
      "needs_background": "light"
     },
     "output_type": "display_data"
    }
   ],
   "source": [
    "eigen.plot.hist(by='eigen',bins=1000, figsize = (16,8))\n",
    "plt.gca().set_xlim(0.001,0.05)\n",
    "plt.gca().set_ylim(0,5000)"
   ]
  },
  {
   "cell_type": "code",
   "execution_count": 25,
   "metadata": {
    "colab": {
     "base_uri": "https://localhost:8080/",
     "height": 265
    },
    "id": "ce57o6FHD5D_",
    "outputId": "3a954d4d-b437-46f7-a9fc-f6504a046314"
   },
   "outputs": [
    {
     "data": {
      "text/plain": [
       "<AxesSubplot:>"
      ]
     },
     "execution_count": 25,
     "metadata": {},
     "output_type": "execute_result"
    },
    {
     "data": {
      "image/png": "[encoded data removed]",
      "text/plain": [
       "<Figure size 432x288 with 1 Axes>"
      ]
     },
     "metadata": {
      "needs_background": "light"
     },
     "output_type": "display_data"
    }
   ],
   "source": [
    "eigen.boxplot(column=\"eigen\")\n"
   ]
  },
  {
   "cell_type": "markdown",
   "metadata": {
    "id": "jGE4RRLlGrMx"
   },
   "source": [
    "# PageRank"
   ]
  },
  {
   "cell_type": "code",
   "execution_count": 26,
   "metadata": {
    "colab": {
     "base_uri": "https://localhost:8080/",
     "height": 496
    },
    "id": "h00kWyoKGcGP",
    "outputId": "1a99d3fa-c0d9-4242-cbce-6d4d3ae4f60a"
   },
   "outputs": [
    {
     "data": {
      "image/png": "[encoded data removed]",
      "text/plain": [
       "<Figure size 1152x576 with 1 Axes>"
      ]
     },
     "metadata": {
      "needs_background": "light"
     },
     "output_type": "display_data"
    }
   ],
   "source": [
    "pagerank.plot.hist(by='pagerank',bins=50000, figsize = (16,8))\n",
    "plt.gca().set_xlim(0,0.000015)\n",
    "plt.savefig('pagerank.pdf')\n",
    "#plt.gca().set_ylim(0,10000)"
   ]
  },
  {
   "cell_type": "code",
   "execution_count": 27,
   "metadata": {
    "colab": {
     "base_uri": "https://localhost:8080/"
    },
    "id": "AAv_vpGgGxhE",
    "outputId": "f2b8da2e-aca3-414c-c312-1c621eb5d8cc"
   },
   "outputs": [
    {
     "data": {
      "text/plain": [
       "(0.0, 40.0)"
      ]
     },
     "execution_count": 27,
     "metadata": {},
     "output_type": "execute_result"
    },
    {
     "data": {
      "image/png": "[encoded data removed]",
      "text/plain": [
       "<Figure size 1152x576 with 1 Axes>"
      ]
     },
     "metadata": {
      "needs_background": "light"
     },
     "output_type": "display_data"
    }
   ],
   "source": [
    "pagerank.plot.hist(by='pagerank',bins=20, figsize = (16,8))\n",
    "plt.gca().set_xlim(0.000015,0.2)\n",
    "plt.gca().set_ylim(0,40)"
   ]
  },
  {
   "cell_type": "code",
   "execution_count": 28,
   "metadata": {
    "colab": {
     "base_uri": "https://localhost:8080/",
     "height": 269
    },
    "id": "g0VZVKmiG2Fd",
    "outputId": "02cd5d52-860c-473d-a1b3-b7a0bf03f9c2"
   },
   "outputs": [
    {
     "data": {
      "text/plain": [
       "<AxesSubplot:>"
      ]
     },
     "execution_count": 28,
     "metadata": {},
     "output_type": "execute_result"
    },
    {
     "data": {
      "image/png": "[encoded data removed]",
      "text/plain": [
       "<Figure size 432x288 with 1 Axes>"
      ]
     },
     "metadata": {
      "needs_background": "light"
     },
     "output_type": "display_data"
    }
   ],
   "source": [
    "pagerank.boxplot(column=\"pagerank\")"
   ]
  },
  {
   "cell_type": "markdown",
   "metadata": {
    "id": "X5_xwYTdvw8h"
   },
   "source": [
    "# Most Influential Users"
   ]
  },
  {
   "cell_type": "code",
   "execution_count": 38,
   "metadata": {
    "id": "_Vr5i89OCdtO"
   },
   "outputs": [],
   "source": [
    "num_ex = 20"
   ]
  },
  {
   "cell_type": "code",
   "execution_count": 39,
   "metadata": {
    "id": "PDDGmZ_lJMYr"
   },
   "outputs": [],
   "source": [
    "sorted_eigen = eigen.sort_values(by='eigen',ascending=False)[0:num_ex]"
   ]
  },
  {
   "cell_type": "code",
   "execution_count": 40,
   "metadata": {
    "id": "jpofUGuPJ5dv"
   },
   "outputs": [],
   "source": [
    "sorted_pagerank = pagerank.sort_values(by='pagerank',ascending=False)[0:num_ex]"
   ]
  },
  {
   "cell_type": "code",
   "execution_count": 41,
   "metadata": {
    "id": "jloozG_pVvLX"
   },
   "outputs": [],
   "source": [
    "choosen_users = sorted_eigen.join(sorted_pagerank,lsuffix='eigen', how=\"inner\")"
   ]
  },
  {
   "cell_type": "code",
   "execution_count": 42,
   "metadata": {
    "colab": {
     "base_uri": "https://localhost:8080/",
     "height": 269
    },
    "id": "iD3OUntY_IaH",
    "outputId": "82842a6e-fddd-4eb7-b90e-a0c16b686bc0"
   },
   "outputs": [
    {
     "data": {
      "text/html": [
       "<div>\n",
       "<style scoped>\n",
       "    .dataframe tbody tr th:only-of-type {\n",
       "        vertical-align: middle;\n",
       "    }\n",
       "\n",
       "    .dataframe tbody tr th {\n",
       "        vertical-align: top;\n",
       "    }\n",
       "\n",
       "    .dataframe thead th {\n",
       "        text-align: right;\n",
       "    }\n",
       "</style>\n",
       "<table border=\"1\" class=\"dataframe\">\n",
       "  <thead>\n",
       "    <tr style=\"text-align: right;\">\n",
       "      <th></th>\n",
       "      <th>Nameeigen</th>\n",
       "      <th>eigen</th>\n",
       "      <th>Name</th>\n",
       "      <th>pagerank</th>\n",
       "    </tr>\n",
       "  </thead>\n",
       "  <tbody>\n",
       "    <tr>\n",
       "      <th>3</th>\n",
       "      <td>t2_6l4z3</td>\n",
       "      <td>0.679572</td>\n",
       "      <td>t2_6l4z3</td>\n",
       "      <td>0.023827</td>\n",
       "    </tr>\n",
       "    <tr>\n",
       "      <th>1</th>\n",
       "      <td>t2_onl9u</td>\n",
       "      <td>0.155174</td>\n",
       "      <td>t2_onl9u</td>\n",
       "      <td>0.006991</td>\n",
       "    </tr>\n",
       "    <tr>\n",
       "      <th>619</th>\n",
       "      <td>t2_2s9e8jwa</td>\n",
       "      <td>0.140812</td>\n",
       "      <td>t2_2s9e8jwa</td>\n",
       "      <td>0.002258</td>\n",
       "    </tr>\n",
       "    <tr>\n",
       "      <th>5757</th>\n",
       "      <td>t2_b6kcx</td>\n",
       "      <td>0.096944</td>\n",
       "      <td>t2_b6kcx</td>\n",
       "      <td>0.001534</td>\n",
       "    </tr>\n",
       "    <tr>\n",
       "      <th>599</th>\n",
       "      <td>t2_wwj7h</td>\n",
       "      <td>0.090285</td>\n",
       "      <td>t2_wwj7h</td>\n",
       "      <td>0.001818</td>\n",
       "    </tr>\n",
       "    <tr>\n",
       "      <th>5189</th>\n",
       "      <td>t2_2t20j72x</td>\n",
       "      <td>0.069180</td>\n",
       "      <td>t2_2t20j72x</td>\n",
       "      <td>0.002321</td>\n",
       "    </tr>\n",
       "    <tr>\n",
       "      <th>6222</th>\n",
       "      <td>t2_y8mbk</td>\n",
       "      <td>0.067534</td>\n",
       "      <td>t2_y8mbk</td>\n",
       "      <td>0.001487</td>\n",
       "    </tr>\n",
       "  </tbody>\n",
       "</table>\n",
       "</div>"
      ],
      "text/plain": [
       "        Nameeigen     eigen         Name  pagerank\n",
       "3        t2_6l4z3  0.679572     t2_6l4z3  0.023827\n",
       "1        t2_onl9u  0.155174     t2_onl9u  0.006991\n",
       "619   t2_2s9e8jwa  0.140812  t2_2s9e8jwa  0.002258\n",
       "5757     t2_b6kcx  0.096944     t2_b6kcx  0.001534\n",
       "599      t2_wwj7h  0.090285     t2_wwj7h  0.001818\n",
       "5189  t2_2t20j72x  0.069180  t2_2t20j72x  0.002321\n",
       "6222     t2_y8mbk  0.067534     t2_y8mbk  0.001487"
      ]
     },
     "execution_count": 42,
     "metadata": {},
     "output_type": "execute_result"
    }
   ],
   "source": [
    "choosen_users"
   ]
  },
  {
   "cell_type": "code",
   "execution_count": null,
   "metadata": {},
   "outputs": [],
   "source": []
  }
 ],
 "metadata": {
  "colab": {
   "name": "CA_final.ipynb",
   "provenance": []
  },
  "kernelspec": {
   "display_name": "Python (SNA)",
   "language": "python",
   "name": "sna"
  },
  "language_info": {
   "codemirror_mode": {
    "name": "ipython",
    "version": 3
   },
   "file_extension": ".py",
   "mimetype": "text/x-python",
   "name": "python",
   "nbconvert_exporter": "python",
   "pygments_lexer": "ipython3",
   "version": "3.9.7"
  }
 },
 "nbformat": 4,
 "nbformat_minor": 1
}
