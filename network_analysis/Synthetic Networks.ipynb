{
 "cells": [
  {
   "cell_type": "code",
   "execution_count": 9,
   "id": "46eaefaf",
   "metadata": {},
   "outputs": [],
   "source": [
    "import networkx as nx\n",
    "import statistics\n",
    "import math\n",
    "\n",
    "from networkx import Graph\n",
    "\n",
    "import json\n",
    "\n",
    "from functions.graph_info import graph_info\n",
    "from functions.graph_components import graph_components\n",
    "from functions.node_degree import node_degree\n",
    "from functions.clustering_coefficient import clustering_coefficient"
   ]
  },
  {
   "cell_type": "code",
   "execution_count": 10,
   "id": "772adcea",
   "metadata": {},
   "outputs": [],
   "source": [
    "seed = 123"
   ]
  },
  {
   "cell_type": "code",
   "execution_count": 11,
   "id": "87f1a460",
   "metadata": {},
   "outputs": [],
   "source": [
    "def analysis(G, name):\n",
    "    # Graph Info\n",
    "    gs_info = graph_info(G.to_undirected(), False)\n",
    "\n",
    "    with open('./results/synthetic-networks/' + name + '.json', 'w') as file:\n",
    "        json.dump(gs_info, file, indent=4)\n",
    "        \n",
    "    # Connected components\n",
    "    giant_component, connected_components_res = graph_components(G, 0)\n",
    "    \n",
    "    connected_components_fig, connected_components_data = connected_components_res\n",
    "    connected_components_fig.savefig('./results/synthetic-networks/' + name + '_connected_components.pdf')\n",
    "    with open('./results/synthetic-networks/' + name + '_connected_components.json', 'w') as file:\n",
    "        json.dump(connected_components_data, file, indent=4)\n",
    "    \n",
    "    # Clustering coefficient\n",
    "    clustering_info, fig = clustering_coefficient(giant_component)\n",
    "    fig.savefig('./results/synthetic-networks/' + name + '_clustering_coefficiet.pdf')\n",
    "    with open('./results/synthetic-networks/' + name + '_clustering_info.json', 'w') as file:\n",
    "        json.dump(clustering_info, file, indent=4)\n",
    "        \n",
    "    # Node degree\n",
    "    degree_info, degree_fig, cdf_fig, ccdf_fig = node_degree(giant_component, 0)\n",
    "    degree_fig.savefig('./results/synthetic-networks/' + name + '_degree_dist.pdf')\n",
    "    cdf_fig.savefig('./results/synthetic-networks/' + name + '_degree_cdf.pdf')\n",
    "    ccdf_fig.savefig('./results/synthetic-networks/' + name + '_degree_ccdf.pdf')\n",
    "\n",
    "    with open('./results/synthetic-networks/' + name + '_degree_info.json', 'w') as file:\n",
    "        json.dump(degree_info, file, indent=4)"
   ]
  },
  {
   "cell_type": "code",
   "execution_count": 12,
   "id": "20abd346",
   "metadata": {},
   "outputs": [
    {
     "name": "stdout",
     "output_type": "stream",
     "text": [
      "Reading the graph...\n",
      "Graph read.\n",
      "Sampling erdos renyi...\n",
      "Collecting some graph info...\n"
     ]
    },
    {
     "name": "stderr",
     "output_type": "stream",
     "text": [
      "Done...: 100%|██████████| 2/2 [00:00<00:00, 14.21it/s]                          \n",
      "Done...: 100%|██████████| 1/1 [00:06<00:00,  6.31s/it]                            \n",
      "Done...: 100%|██████████| 3/3 [00:01<00:00,  2.51it/s]                          \n"
     ]
    },
    {
     "name": "stdout",
     "output_type": "stream",
     "text": [
      "Calculating best minimal value for power law fit\n",
      "Sampling watts strogatz...\n",
      "Collecting some graph info...\n"
     ]
    },
    {
     "name": "stderr",
     "output_type": "stream",
     "text": [
      "Done...: 100%|██████████| 2/2 [00:00<00:00, 24.34it/s]                          \n",
      "Done...: 100%|██████████| 1/1 [00:03<00:00,  3.88s/it]                            \n",
      "Done...: 100%|██████████| 3/3 [00:00<00:00,  3.07it/s]                          \n"
     ]
    },
    {
     "name": "stdout",
     "output_type": "stream",
     "text": [
      "Calculating best minimal value for power law fit\n",
      "Collecting some graph info...\n"
     ]
    },
    {
     "name": "stderr",
     "output_type": "stream",
     "text": [
      "Done...: 100%|██████████| 2/2 [00:00<00:00, 19.81it/s]                          \n",
      "Done...: 100%|██████████| 1/1 [00:03<00:00,  3.90s/it]                            \n",
      "Done...: 100%|██████████| 3/3 [00:00<00:00,  3.16it/s]                          \n"
     ]
    },
    {
     "name": "stdout",
     "output_type": "stream",
     "text": [
      "Calculating best minimal value for power law fit\n",
      "Collecting some graph info...\n"
     ]
    },
    {
     "name": "stderr",
     "output_type": "stream",
     "text": [
      "Done...: 100%|██████████| 2/2 [00:00<00:00, 23.55it/s]                          \n",
      "Done...: 100%|██████████| 1/1 [00:03<00:00,  3.93s/it]                            \n",
      "Extracting degree info...:  33%|███▎      | 1/3 [00:00<00:00,  2.48it/s]        /Users/giuseppegrieco/Documents/Unipi/SNA/2021---final-project-bormioli_grieco_sangermano/network_analysis/functions/node_degree.py:32: RuntimeWarning: More than 20 figures have been opened. Figures created through the pyplot interface (`matplotlib.pyplot.figure`) are retained until explicitly closed and may consume too much memory. (To control this warning, see the rcParam `figure.max_open_warning`).\n",
      "  degree_fig = plt.figure()\n",
      "Done...: 100%|██████████| 3/3 [00:00<00:00,  3.14it/s]                  \n"
     ]
    },
    {
     "name": "stdout",
     "output_type": "stream",
     "text": [
      "Calculating best minimal value for power law fit\n",
      "Collecting some graph info...\n"
     ]
    },
    {
     "name": "stderr",
     "output_type": "stream",
     "text": [
      "Done...: 100%|██████████| 2/2 [00:00<00:00, 22.37it/s]                          \n",
      "Done...: 100%|██████████| 1/1 [00:03<00:00,  3.93s/it]                            \n",
      "Done...: 100%|██████████| 3/3 [00:00<00:00,  3.16it/s]                          \n"
     ]
    },
    {
     "name": "stdout",
     "output_type": "stream",
     "text": [
      "Calculating best minimal value for power law fit\n",
      "Collecting some graph info...\n"
     ]
    },
    {
     "name": "stderr",
     "output_type": "stream",
     "text": [
      "Done...: 100%|██████████| 2/2 [00:00<00:00, 23.29it/s]                          \n",
      "Done...: 100%|██████████| 1/1 [00:04<00:00,  4.05s/it]                            \n",
      "Done...: 100%|██████████| 3/3 [00:00<00:00,  3.12it/s]                          \n"
     ]
    },
    {
     "name": "stdout",
     "output_type": "stream",
     "text": [
      "Calculating best minimal value for power law fit\n",
      "Sampling barabasi albert...\n",
      "Collecting some graph info...\n"
     ]
    },
    {
     "name": "stderr",
     "output_type": "stream",
     "text": [
      "Done...: 100%|██████████| 2/2 [00:00<00:00, 21.83it/s]                          \n",
      "Computing clustering coefficient...:   0%|          | 0/1 [00:00<?, ?it/s]/Users/giuseppegrieco/Documents/Unipi/SNA/2021---final-project-bormioli_grieco_sangermano/network_analysis/functions/clustering_coefficient.py:17: UserWarning: Data has no positive values, and therefore cannot be log-scaled.\n",
      "  plt.yscale('log')\n",
      "Done...: 100%|██████████| 1/1 [00:01<00:00,  1.77s/it]                            \n",
      "Done...: 100%|██████████| 3/3 [00:00<00:00,  4.62it/s]                          \n"
     ]
    },
    {
     "name": "stdout",
     "output_type": "stream",
     "text": [
      "Calculating best minimal value for power law fit\n",
      "Collecting some graph info...\n"
     ]
    },
    {
     "name": "stderr",
     "output_type": "stream",
     "text": [
      "Done...: 100%|██████████| 2/2 [00:00<00:00, 20.70it/s]                          \n",
      "Done...: 100%|██████████| 1/1 [00:06<00:00,  6.20s/it]                            \n",
      "Done...: 100%|██████████| 3/3 [00:00<00:00,  3.14it/s]                          \n"
     ]
    },
    {
     "name": "stdout",
     "output_type": "stream",
     "text": [
      "Calculating best minimal value for power law fit\n",
      "Collecting some graph info...\n"
     ]
    },
    {
     "name": "stderr",
     "output_type": "stream",
     "text": [
      "Done...: 100%|██████████| 2/2 [00:00<00:00, 18.46it/s]                          \n",
      "Done...: 100%|██████████| 1/1 [00:09<00:00,  9.74s/it]                            \n",
      "Done...: 100%|██████████| 3/3 [00:01<00:00,  2.93it/s]                          \n"
     ]
    },
    {
     "name": "stdout",
     "output_type": "stream",
     "text": [
      "Calculating best minimal value for power law fit\n",
      "Collecting some graph info...\n"
     ]
    },
    {
     "name": "stderr",
     "output_type": "stream",
     "text": [
      "Done...: 100%|██████████| 2/2 [00:00<00:00, 19.83it/s]                          \n",
      "Done...: 100%|██████████| 1/1 [00:13<00:00, 13.89s/it]                            \n",
      "Done...: 100%|██████████| 3/3 [00:01<00:00,  2.56it/s]                          \n"
     ]
    },
    {
     "name": "stdout",
     "output_type": "stream",
     "text": [
      "Calculating best minimal value for power law fit\n",
      "Collecting some graph info...\n"
     ]
    },
    {
     "name": "stderr",
     "output_type": "stream",
     "text": [
      "Done...: 100%|██████████| 2/2 [00:00<00:00, 18.33it/s]                          \n",
      "Done...: 100%|██████████| 1/1 [00:23<00:00, 23.76s/it]                            \n",
      "Done...: 100%|██████████| 3/3 [00:01<00:00,  2.11it/s]                          \n"
     ]
    },
    {
     "name": "stdout",
     "output_type": "stream",
     "text": [
      "Calculating best minimal value for power law fit\n",
      "xmin progress: 00%\r",
      "xmin progress: 01%\r",
      "xmin progress: 02%\r",
      "xmin progress: 03%\r",
      "xmin progress: 04%\r",
      "xmin progress: 05%\r",
      "xmin progress: 06%\r",
      "xmin progress: 08%\r",
      "xmin progress: 09%\r",
      "xmin progress: 10%\r",
      "xmin progress: 11%\r",
      "xmin progress: 12%\r",
      "xmin progress: 13%\r",
      "xmin progress: 15%\r",
      "xmin progress: 16%\r",
      "xmin progress: 17%\r",
      "xmin progress: 18%\r",
      "xmin progress: 19%\r",
      "xmin progress: 20%\r",
      "xmin progress: 22%\r",
      "xmin progress: 23%\r",
      "xmin progress: 24%\r",
      "xmin progress: 25%\r",
      "xmin progress: 26%\r",
      "xmin progress: 27%\r",
      "xmin progress: 29%\r",
      "xmin progress: 30%\r",
      "xmin progress: 31%\r",
      "xmin progress: 32%\r",
      "xmin progress: 33%\r",
      "xmin progress: 34%\r",
      "xmin progress: 36%\r",
      "xmin progress: 37%\r",
      "xmin progress: 38%\r",
      "xmin progress: 39%\r",
      "xmin progress: 40%\r",
      "xmin progress: 41%\r",
      "xmin progress: 43%\r",
      "xmin progress: 44%\r",
      "xmin progress: 45%\r",
      "xmin progress: 46%\r",
      "xmin progress: 47%\r",
      "xmin progress: 48%\r",
      "xmin progress: 50%\r",
      "xmin progress: 51%\r",
      "xmin progress: 52%\r",
      "xmin progress: 53%\r",
      "xmin progress: 54%\r",
      "xmin progress: 55%\r",
      "xmin progress: 56%\r",
      "xmin progress: 58%\r",
      "xmin progress: 59%\r",
      "xmin progress: 60%\r",
      "xmin progress: 61%\r",
      "xmin progress: 62%\r",
      "xmin progress: 63%\r",
      "xmin progress: 65%\r",
      "xmin progress: 66%\r",
      "xmin progress: 67%\r",
      "xmin progress: 68%\r",
      "xmin progress: 69%\r",
      "xmin progress: 70%\r",
      "xmin progress: 72%\r",
      "xmin progress: 73%\r",
      "xmin progress: 74%\r",
      "xmin progress: 75%\r",
      "xmin progress: 76%\r",
      "xmin progress: 77%\r",
      "xmin progress: 79%\r",
      "xmin progress: 80%\r",
      "xmin progress: 81%\r",
      "xmin progress: 82%\r",
      "xmin progress: 83%\r",
      "xmin progress: 84%\r",
      "xmin progress: 86%\r",
      "xmin progress: 87%\r",
      "xmin progress: 88%\r",
      "xmin progress: 89%\r",
      "xmin progress: 90%\r",
      "xmin progress: 91%\r",
      "xmin progress: 93%\r",
      "xmin progress: 94%\r",
      "xmin progress: 95%\r",
      "xmin progress: 96%\r",
      "xmin progress: 97%\r",
      "xmin progress: 98%\r"
     ]
    }
   ],
   "source": [
    "# Load the giant component\n",
    "print('Reading the graph...')\n",
    "G = nx.read_gexf('../data_collection/data/GS.gexf')\n",
    "G = G.to_undirected()\n",
    "print('Graph read.')\n",
    "\n",
    "n = len(G.nodes)\n",
    "p = nx.density(G)\n",
    "\n",
    "print(\"Sampling erdos renyi...\")\n",
    "G_synt = nx.fast_gnp_random_graph(n, p, seed=seed)\n",
    "analysis(G_synt, 'erdos_renyi')\n",
    "nx.write_gexf(G_synt, './data/synthetic-networks/erdos_renyi.gexf')\n",
    "\n",
    "print(\"Sampling watts strogatz...\")\n",
    "degree_vec = [d for _, d in G.degree()]\n",
    "k = math.floor(statistics.mean(degree_vec))\n",
    "for p in [0.001, 0.005, 0.01, 0.05, 0.1]:\n",
    "    G_synt = nx.watts_strogatz_graph(n, k, p, seed=seed)\n",
    "    analysis(G_synt, 'watts_strogatz_' + str(p))\n",
    "    nx.write_gexf(G_synt, './data/synthetic-networks/watts_strogatz_' + str(p) + '.gexf')\n",
    "\n",
    "print(\"Sampling barabasi albert...\")\n",
    "for m in [1, 3, 4, 5, 7]:\n",
    "    G_synt = nx.barabasi_albert_graph(n, m, seed=seed)\n",
    "    analysis(G_synt, 'barabasi_albert_' + str(m))\n",
    "    nx.write_gexf(G_synt, './data/synthetic-networks/barabasi_albert_' + str(m) + '.gexf')"
   ]
  },
  {
   "cell_type": "code",
   "execution_count": 15,
   "id": "c4a1bc28",
   "metadata": {},
   "outputs": [
    {
     "name": "stdout",
     "output_type": "stream",
     "text": [
      "Sampling configuration model...\n"
     ]
    },
    {
     "name": "stderr",
     "output_type": "stream",
     "text": [
      "Computing clustering coefficient...:   0%|          | 0/1 [00:54<?, ?it/s]\n"
     ]
    },
    {
     "name": "stdout",
     "output_type": "stream",
     "text": [
      "Collecting some graph info...\n"
     ]
    },
    {
     "name": "stderr",
     "output_type": "stream",
     "text": [
      "Done...: 100%|██████████| 2/2 [00:00<00:00, 20.79it/s]                          \n",
      "Done...: 100%|██████████| 1/1 [01:01<00:00, 61.76s/it]                            \n",
      "Done...: 100%|██████████| 3/3 [00:00<00:00,  3.11it/s]                          \n"
     ]
    },
    {
     "name": "stdout",
     "output_type": "stream",
     "text": [
      "Calculating best minimal value for power law fit\n",
      "xmin progress: 00%\r",
      "xmin progress: 01%\r",
      "xmin progress: 02%\r",
      "xmin progress: 03%\r",
      "xmin progress: 04%\r",
      "xmin progress: 05%\r",
      "xmin progress: 06%\r",
      "xmin progress: 07%\r",
      "xmin progress: 08%\r",
      "xmin progress: 10%\r",
      "xmin progress: 11%\r",
      "xmin progress: 12%\r",
      "xmin progress: 13%\r",
      "xmin progress: 14%\r",
      "xmin progress: 15%\r",
      "xmin progress: 16%\r",
      "xmin progress: 17%\r",
      "xmin progress: 19%\r",
      "xmin progress: 20%\r",
      "xmin progress: 21%\r",
      "xmin progress: 22%\r",
      "xmin progress: 23%\r",
      "xmin progress: 24%\r",
      "xmin progress: 25%\r",
      "xmin progress: 26%\r",
      "xmin progress: 28%\r",
      "xmin progress: 29%\r",
      "xmin progress: 30%\r",
      "xmin progress: 31%\r",
      "xmin progress: 32%\r",
      "xmin progress: 33%\r",
      "xmin progress: 34%\r",
      "xmin progress: 35%\r",
      "xmin progress: 37%\r",
      "xmin progress: 38%\r",
      "xmin progress: 39%\r",
      "xmin progress: 40%\r",
      "xmin progress: 41%\r",
      "xmin progress: 42%\r",
      "xmin progress: 43%\r",
      "xmin progress: 44%\r",
      "xmin progress: 46%\r",
      "xmin progress: 47%\r",
      "xmin progress: 48%\r",
      "xmin progress: 49%\r",
      "xmin progress: 50%\r",
      "xmin progress: 51%\r",
      "xmin progress: 52%\r",
      "xmin progress: 53%\r",
      "xmin progress: 55%\r",
      "xmin progress: 56%\r",
      "xmin progress: 57%\r",
      "xmin progress: 58%\r",
      "xmin progress: 59%\r",
      "xmin progress: 60%\r",
      "xmin progress: 61%\r",
      "xmin progress: 62%\r",
      "xmin progress: 64%\r",
      "xmin progress: 65%\r",
      "xmin progress: 66%\r",
      "xmin progress: 67%\r",
      "xmin progress: 68%\r",
      "xmin progress: 69%\r",
      "xmin progress: 70%\r",
      "xmin progress: 71%\r",
      "xmin progress: 73%\r",
      "xmin progress: 74%\r",
      "xmin progress: 75%\r",
      "xmin progress: 76%\r",
      "xmin progress: 77%\r",
      "xmin progress: 78%\r",
      "xmin progress: 79%\r",
      "xmin progress: 80%\r",
      "xmin progress: 82%\r",
      "xmin progress: 83%\r",
      "xmin progress: 84%\r",
      "xmin progress: 85%\r",
      "xmin progress: 86%\r",
      "xmin progress: 87%\r",
      "xmin progress: 88%\r",
      "xmin progress: 89%\r",
      "xmin progress: 91%\r",
      "xmin progress: 92%\r",
      "xmin progress: 93%\r",
      "xmin progress: 94%\r",
      "xmin progress: 95%\r",
      "xmin progress: 96%\r",
      "xmin progress: 97%\r",
      "xmin progress: 98%\r"
     ]
    }
   ],
   "source": [
    "print(\"Sampling configuration model...\")\n",
    "G_synt = nx.configuration_model([d for _, d in G.degree()], create_using=Graph, seed=seed)\n",
    "analysis(G_synt, 'configuration_model')\n",
    "nx.write_gexf(G_synt, './data/synthetic-networks/configuration_model.gexf')"
   ]
  },
  {
   "cell_type": "code",
   "execution_count": null,
   "id": "67e546ab",
   "metadata": {},
   "outputs": [],
   "source": []
  }
 ],
 "metadata": {
  "kernelspec": {
   "display_name": "Python (SNA)",
   "language": "python",
   "name": "sna"
  },
  "language_info": {
   "codemirror_mode": {
    "name": "ipython",
    "version": 3
   },
   "file_extension": ".py",
   "mimetype": "text/x-python",
   "name": "python",
   "nbconvert_exporter": "python",
   "pygments_lexer": "ipython3",
   "version": "3.9.7"
  }
 },
 "nbformat": 4,
 "nbformat_minor": 5
}
