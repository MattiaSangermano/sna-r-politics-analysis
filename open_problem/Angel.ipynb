{
 "cells": [
  {
   "cell_type": "markdown",
   "id": "caafe560",
   "metadata": {},
   "source": [
    "### Angel communities"
   ]
  },
  {
   "cell_type": "code",
   "execution_count": 1,
   "id": "1214a1c1",
   "metadata": {},
   "outputs": [],
   "source": [
    "import networkx as nx\n",
    "import json\n",
    "import numpy as np\n",
    "import random\n",
    "import scipy.special\n",
    "import sys\n",
    "import json\n",
    "import pickle \n",
    "import argparse\n",
    "\n",
    "from itertools import combinations\n",
    "from tqdm import tqdm, trange\n",
    "import sys\n",
    "\n",
    "import re\n",
    "import ast"
   ]
  },
  {
   "cell_type": "code",
   "execution_count": 2,
   "id": "deac8de4",
   "metadata": {},
   "outputs": [
    {
     "name": "stdout",
     "output_type": "stream",
     "text": [
      "Reading the graph...\n",
      "Graph read.\n"
     ]
    }
   ],
   "source": [
    "# Load the graph\n",
    "print('Reading the graph...')\n",
    "G_directed = nx.read_gexf('../data_collection/data/GS.gexf')\n",
    "print('Graph read.')"
   ]
  },
  {
   "cell_type": "code",
   "execution_count": 3,
   "id": "9d63494f",
   "metadata": {},
   "outputs": [
    {
     "name": "stdout",
     "output_type": "stream",
     "text": [
      "Reading the graph...\n",
      "Graph read.\n"
     ]
    }
   ],
   "source": [
    "# Load the graph\n",
    "print('Reading the graph...')\n",
    "G = nx.read_gexf('../network_analysis/data/rpolitics/giant_component.gexf')\n",
    "print('Graph read.')"
   ]
  },
  {
   "cell_type": "code",
   "execution_count": 4,
   "id": "8b9ed51f",
   "metadata": {},
   "outputs": [],
   "source": [
    "def have_same_topic(G, u, v, w):\n",
    "    u_submissions = re.findall('\"(t3_.+?)\"', G.nodes[u]['submissions'].replace(\"'\",'\\\"'))\n",
    "    v_submissions = re.findall('\"(t3_.+?)\"', G.nodes[v]['submissions'].replace(\"'\",'\\\"'))\n",
    "    w_submissions = re.findall('\"(t3_.+?)\"', G.nodes[w]['submissions'].replace(\"'\",'\\\"'))\n",
    "    u_t3 = set(u_submissions)\n",
    "    v_t3 = set(v_submissions)\n",
    "    w_t3 = set(w_submissions)\n",
    "    \n",
    "    if (u, v) in G.edges:\n",
    "        uv_t3 = re.findall('\"link_id\": \"(.+?)\"', G.edges[u, v]['comments'].replace(\"'\", '\"'))\n",
    "        u_t3.update(uv_t3)\n",
    "        v_t3.update(uv_t3)\n",
    "        \n",
    "    if (v, u) in G.edges:\n",
    "        vu_t3 = re.findall('\"link_id\": \"(.+?)\"', G.edges[v, u]['comments'].replace(\"'\", '\"'))\n",
    "        v_t3.update(vu_t3)\n",
    "        u_t3.update(vu_t3)\n",
    "        \n",
    "    if (v, w) in G.edges:\n",
    "        vw_t3 = re.findall('\"link_id\": \"(.+?)\"', G.edges[v, w]['comments'].replace(\"'\", '\"'))\n",
    "        v_t3.update(vw_t3)\n",
    "        w_t3.update(vw_t3)\n",
    "        \n",
    "    if (w, v) in G.edges:\n",
    "        wv_t3 = re.findall('\"link_id\": \"(.+?)\"', G.edges[w, v]['comments'].replace(\"'\", '\"'))\n",
    "        v_t3.update(wv_t3)\n",
    "        w_t3.update(wv_t3)\n",
    "    \n",
    "    return len(u_t3.intersection(v_t3.intersection(w_t3))) != 0\n",
    "\n",
    "def topic_coverage(G):\n",
    "    X = {}\n",
    "    n_true = 0\n",
    "    n = 0\n",
    "    for (u, v) in list(G.edges()):\n",
    "        for w in G.neighbors(u):\n",
    "            if w == v: \n",
    "                continue\n",
    "            # v -> u -> w \n",
    "            if not (v, w) in G.edges():\n",
    "                if have_same_topic(G_directed, v, u, w):\n",
    "                    n_true +=1\n",
    "                n+=1\n",
    "            \n",
    "        for w in G.neighbors(v):\n",
    "            if w == u: \n",
    "                continue\n",
    "            # u -> v -> w \n",
    "            if not (w in X and X[w] == 1):\n",
    "                if not (u, w) in G.edges():\n",
    "                    if have_same_topic(G_directed, u, v, w):\n",
    "                        n_true +=1\n",
    "                    n+=1\n",
    "    if n == 0:\n",
    "        return 1, n, n_true\n",
    "    return n_true / n, n, n_true"
   ]
  },
  {
   "cell_type": "code",
   "execution_count": 5,
   "id": "44f329fa",
   "metadata": {},
   "outputs": [],
   "source": [
    "with open(\"./data/angel_communities.txt\", \"rb\") as fp:\n",
    "    communities = pickle.load(fp)"
   ]
  },
  {
   "cell_type": "code",
   "execution_count": 26,
   "id": "ac52d82d",
   "metadata": {},
   "outputs": [
    {
     "name": "stdout",
     "output_type": "stream",
     "text": [
      "6\n"
     ]
    }
   ],
   "source": [
    "print(len(communities[11]))"
   ]
  },
  {
   "cell_type": "code",
   "execution_count": 25,
   "id": "5ae6640b",
   "metadata": {},
   "outputs": [
    {
     "name": "stdout",
     "output_type": "stream",
     "text": [
      "0.6413979463159791\n"
     ]
    }
   ],
   "source": [
    "res = 0\n",
    "j = 0\n",
    "for i in range(1, 12):\n",
    "    subG = G.subgraph(communities[i])\n",
    "    val, n, n_true = topic_coverage(subG)\n",
    "    if n != 0:\n",
    "        res += val * len(subG.nodes())\n",
    "        j+=len(subG.nodes())\n",
    "print(res / j)"
   ]
  },
  {
   "cell_type": "code",
   "execution_count": null,
   "id": "47d75077",
   "metadata": {},
   "outputs": [],
   "source": []
  }
 ],
 "metadata": {
  "kernelspec": {
   "display_name": "Python (SNA)",
   "language": "python",
   "name": "sna"
  },
  "language_info": {
   "codemirror_mode": {
    "name": "ipython",
    "version": 3
   },
   "file_extension": ".py",
   "mimetype": "text/x-python",
   "name": "python",
   "nbconvert_exporter": "python",
   "pygments_lexer": "ipython3",
   "version": "3.9.7"
  }
 },
 "nbformat": 4,
 "nbformat_minor": 5
}
