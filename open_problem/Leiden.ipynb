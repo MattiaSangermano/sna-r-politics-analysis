{
 "cells": [
  {
   "cell_type": "markdown",
   "id": "66dec4ba",
   "metadata": {},
   "source": [
    "### Angel communities"
   ]
  },
  {
   "cell_type": "code",
   "execution_count": 1,
   "id": "81a28d0a",
   "metadata": {},
   "outputs": [],
   "source": [
    "import networkx as nx\n",
    "import json\n",
    "import numpy as np\n",
    "import random\n",
    "import scipy.special\n",
    "import sys\n",
    "import json\n",
    "import pickle \n",
    "import argparse\n",
    "\n",
    "from itertools import combinations\n",
    "from tqdm import tqdm, trange\n",
    "import sys\n",
    "\n",
    "import re\n",
    "import ast"
   ]
  },
  {
   "cell_type": "code",
   "execution_count": 2,
   "id": "83e6b078",
   "metadata": {},
   "outputs": [
    {
     "name": "stdout",
     "output_type": "stream",
     "text": [
      "Reading the graph...\n",
      "Graph read.\n"
     ]
    }
   ],
   "source": [
    "# Load the graph\n",
    "print('Reading the graph...')\n",
    "G_directed = nx.read_gexf('../data_collection/data/GS.gexf')\n",
    "print('Graph read.')"
   ]
  },
  {
   "cell_type": "code",
   "execution_count": 7,
   "id": "fcf1078c",
   "metadata": {},
   "outputs": [
    {
     "name": "stdout",
     "output_type": "stream",
     "text": [
      "Reading the graph...\n",
      "Graph read.\n"
     ]
    }
   ],
   "source": [
    "# Load the graph\n",
    "print('Reading the graph...')\n",
    "G = nx.read_gexf('../network_analysis/data/rpolitics/giant_component.gexf')\n",
    "print('Graph read.')"
   ]
  },
  {
   "cell_type": "code",
   "execution_count": 4,
   "id": "a8854d1a",
   "metadata": {},
   "outputs": [],
   "source": [
    "with open(\"./data/leiden_communities.txt\", \"rb\") as fp:\n",
    "    communities = pickle.load(fp)"
   ]
  },
  {
   "cell_type": "code",
   "execution_count": 148,
   "id": "65562209",
   "metadata": {},
   "outputs": [],
   "source": [
    "def political_leaning(G):\n",
    "    tot = 0\n",
    "    n = 0\n",
    "    left = 0\n",
    "    for node in G.nodes():\n",
    "        if \"labels_political_leaning\" in G.nodes[node]:\n",
    "            val = G.nodes[node][\"labels_political_leaning\"]\n",
    "            if val <= 0.5:\n",
    "                left += 1\n",
    "            tot += val\n",
    "            n += 1\n",
    "    return left, n - left, tot / n\n",
    "\n",
    "def toxicity_scores(G):\n",
    "    tot = {\n",
    "        \"labels_toxicity\": 0,\n",
    "        \"labels_severe_toxicity\": 0,\n",
    "        \"labels_obscene\": 0,\n",
    "        \"labels_threat\": 0,\n",
    "        \"labels_insult\": 0,\n",
    "        \"labels_identity_hate\": 0\n",
    "    }\n",
    "    n = 0\n",
    "    left = 0\n",
    "    for node in G.nodes():\n",
    "        if \"labels_toxicity\" in G.nodes[node]:\n",
    "            for key in tot:\n",
    "                val = G.nodes[node][key]\n",
    "                tot[key] += val\n",
    "            n += 1\n",
    "    for key in tot:\n",
    "        tot[key] = tot[key] / n\n",
    "    return tot"
   ]
  },
  {
   "cell_type": "code",
   "execution_count": 157,
   "id": "dc0530ff",
   "metadata": {},
   "outputs": [],
   "source": [
    "for i in range(len(communities)):\n",
    "    G_com = G_directed.subgraph(communities[i])\n",
    "    left, right, score = political_leaning(G_com)\n",
    "    toxicity = toxicity_scores(G_com)\n",
    "    if toxicity[\"labels_identity_hate\"] >= 0.5:\n",
    "        print(\"-------- Community \" + str(i + 1))\n",
    "        n = len(G_com.nodes())\n",
    "        print(toxicity)\n",
    "        print(n)\n",
    "        print(left / n * 100)\n",
    "        print(right / n * 100)\n",
    "        print(score)"
   ]
  },
  {
   "cell_type": "code",
   "execution_count": 152,
   "id": "ce578dc2",
   "metadata": {},
   "outputs": [
    {
     "name": "stdout",
     "output_type": "stream",
     "text": [
      "0\n"
     ]
    }
   ],
   "source": []
  },
  {
   "cell_type": "code",
   "execution_count": null,
   "id": "a4397761",
   "metadata": {},
   "outputs": [],
   "source": []
  }
 ],
 "metadata": {
  "kernelspec": {
   "display_name": "Python (SNA)",
   "language": "python",
   "name": "sna"
  },
  "language_info": {
   "codemirror_mode": {
    "name": "ipython",
    "version": 3
   },
   "file_extension": ".py",
   "mimetype": "text/x-python",
   "name": "python",
   "nbconvert_exporter": "python",
   "pygments_lexer": "ipython3",
   "version": "3.9.7"
  }
 },
 "nbformat": 4,
 "nbformat_minor": 5
}
